{
 "cells": [
  {
   "cell_type": "code",
   "execution_count": null,
   "id": "4cb58790",
   "metadata": {},
   "outputs": [],
   "source": [
    "import os\n",
    "import numpy as np\n",
    "from imutils import paths\n",
    "from keras.models import Model\n",
    "from keras.layers import AveragePooling2D,Dense,Dropout,Flatten\n",
    "from keras.applications import MobileNetV2\n",
    "from keras.applications.mobilenet_v2 import preprocess_input\n",
    "from sklearn.model_selection import train_test_split\n",
    "from keras.preprocessing.image import load_img,img_to_array\n",
    "from keras.utils import to_categorical\n",
    "from sklearn.preprocessing import LabelBinarizer\n",
    "\n",
    "base_dir=r\"C:\\Users\\pc\\Downloads\\archive (2)\\data\"\n",
    "categories=[\"with_mask\",\"without_mask\"]\n",
    "data=[]\n",
    "labels=[]\n",
    "\n",
    "for cat in categories:\n",
    "    path=os.path.join(base_dir,cat)\n",
    "    for img in os.listdir(path):\n",
    "        img_path=os.path.join(path,img)\n",
    "        images=load_img(img_path,target_size=(224,224))\n",
    "        images=img_to_array(images)\n",
    "        images=preprocess_input(images)\n",
    "        data.append(images)\n",
    "        labels.append(cat)\n",
    "\n",
    "data=np.array(data,dtype=\"float32\")\n",
    "labels=np.array(labels)\n",
    "\n",
    "lb=LabelBinarizer()\n",
    "labels=lb.fit_transform(labels)\n",
    "labels=to_categorical(labels)\n",
    "\n",
    "X_train,X_test,y_train,y_test=train_test_split(data,labels,stratify=labels,test_size=0.2,random_state=42)\n",
    "\n",
    "baseModel=MobileNetV2(input_shape=(224,224,3),include_top=False,weights='imagenet')\n",
    "headModel=baseModel.output\n",
    "headModel=AveragePooling2D(pool_size=(7,7))(headModel)\n",
    "headModel=Flatten(name=\"flatten\")(headModel)\n",
    "headModel=Dense(128,activation=\"relu\")(headModel)\n",
    "headModel=Dropout(0.5)(headModel)\n",
    "headModel=Dense(2,activation=\"softmax\")(headModel)\n",
    "model=Model(inputs=baseModel.input,outputs=headModel)\n",
    "\n",
    "for layer in baseModel.layers:\n",
    "    layer.trainable=False\n",
    "model.compile(optimizer=\"adam\",loss=\"binary_crossentropy\",metrics=[\"accuracy\"])\n",
    "model.fit(X_train,y_train,validation_data=(X_test,y_test),epochs=20)\n",
    "\n",
    "model.save(\"mask_detection.h5\")"
   ]
  }
 ],
 "metadata": {
  "kernelspec": {
   "display_name": "Python 3",
   "language": "python",
   "name": "python3"
  },
  "language_info": {
   "codemirror_mode": {
    "name": "ipython",
    "version": 3
   },
   "file_extension": ".py",
   "mimetype": "text/x-python",
   "name": "python",
   "nbconvert_exporter": "python",
   "pygments_lexer": "ipython3",
   "version": "3.7.10"
  }
 },
 "nbformat": 4,
 "nbformat_minor": 5
}
