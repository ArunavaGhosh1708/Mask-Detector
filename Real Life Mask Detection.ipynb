{
 "cells": [
  {
   "cell_type": "code",
   "execution_count": null,
   "id": "759fcbe5",
   "metadata": {},
   "outputs": [],
   "source": [
    "import cv2\n",
    "from keras.models import load_model\n",
    "model=load_model(\"mask_detection.h5\")"
   ]
  },
  {
   "cell_type": "code",
   "execution_count": null,
   "id": "cd857a2e",
   "metadata": {},
   "outputs": [],
   "source": [
    "cascPath=r\"C:\\Users\\pc\\Downloads\\haarcascade_frontalface_alt2.xml\"\n",
    "cascade=cv2.CascadeClassifier(cascPath)\n",
    "labels_dict={0:\"MASK\",1:\"NO MASK\"}\n",
    "color_dict={0:(0,255,0),1:(0,0,255)}\n",
    "cap=cv2.VideoCapture(0)\n",
    "while(True):\n",
    "    _,img=cap.read()\n",
    "    gray=cv2.cvtColor(img,cv2.COLOR_BGR2RGB)\n",
    "    faces=cascade.detectMultiScale(gray,1.1,3)\n",
    "    for (x,y,w,h) in faces:\n",
    "        face_img=img[y:y+w,x:x+w]\n",
    "        image=cv2.resize(face_img,(224,224))\n",
    "        image=img_to_array(image)\n",
    "        image=preprocess_input(image)\n",
    "        image=np.array([image],dtype=\"float32\")\n",
    "        pred=model.predict(image)\n",
    "        sed=str(\" : \")+str((np.max(pred)*100).round(2))+str(\"%\")\n",
    "        label=np.argmax(pred,axis=1)[0]\n",
    "        cv2.rectangle(img,(x,y),(x+w,y+h),color_dict[label],2)\n",
    "        if (label==1):\n",
    "            cv2.putText(img,labels_dict[label],(x,y-10),cv2.FONT_HERSHEY_SIMPLEX,0.5,(0,0,255),2)\n",
    "            cv2.putText(img,sed,(x+70,y-10),cv2.FONT_HERSHEY_SIMPLEX,0.5,(0,0,255),2)\n",
    "        else:\n",
    "            cv2.putText(img,labels_dict[label],(x,y-10),cv2.FONT_HERSHEY_SIMPLEX,0.5,(0,255,0),2)\n",
    "            cv2.putText(img,sed,(x+40,y-10),cv2.FONT_HERSHEY_SIMPLEX,0.5,(0,255,0),2)\n",
    "    cv2.imshow(\"Face Mask Detection\",img)\n",
    "    if cv2.waitKey(1) & 0XFF==ord('q'):\n",
    "        break\n",
    "cap.release()\n",
    "cv2.destroyAllWindows()"
   ]
  }
 ],
 "metadata": {
  "kernelspec": {
   "display_name": "Python 3",
   "language": "python",
   "name": "python3"
  },
  "language_info": {
   "codemirror_mode": {
    "name": "ipython",
    "version": 3
   },
   "file_extension": ".py",
   "mimetype": "text/x-python",
   "name": "python",
   "nbconvert_exporter": "python",
   "pygments_lexer": "ipython3",
   "version": "3.7.10"
  }
 },
 "nbformat": 4,
 "nbformat_minor": 5
}
